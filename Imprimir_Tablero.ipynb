{
 "cells": [
  {
   "cell_type": "code",
   "execution_count": 3,
   "id": "d33b6fc1",
   "metadata": {},
   "outputs": [],
   "source": [
    "import numpy as np\n",
    "import matplotlib.pyplot as plt"
   ]
  },
  {
   "cell_type": "markdown",
   "id": "6c0ce90c",
   "metadata": {},
   "source": [
    "## Muestra un tablero tipo de ajedrez de $5 \\times 5$ con un ciclo $for$ anidado.\n",
    "\n",
    "## Utiliza la siguiente ecuación para imprimirlo:\n",
    "\n",
    "$(-1)^{(x+y-1)}$ "
   ]
  },
  {
   "cell_type": "code",
   "execution_count": 14,
   "id": "84a27816",
   "metadata": {},
   "outputs": [
    {
     "data": {
      "image/png": "[encoded data removed]",
      "text/plain": [
       "<Figure size 640x480 with 1 Axes>"
      ]
     },
     "metadata": {},
     "output_type": "display_data"
    }
   ],
   "source": [
    "tablero=np.zeros((5,5))\n",
    "for x in range(0,5): \n",
    "    for y in range(0,5):\n",
    "        tablero[x][y]= (-1)**(x+y-1)\n",
    "     \n",
    "plt.imshow(tablero)\n",
    "plt.show()"
   ]
  },
  {
   "cell_type": "code",
   "execution_count": null,
   "id": "14f22879",
   "metadata": {},
   "outputs": [],
   "source": []
  }
 ],
 "metadata": {
  "kernelspec": {
   "display_name": "Python 3 (ipykernel)",
   "language": "python",
   "name": "python3"
  },
  "language_info": {
   "codemirror_mode": {
    "name": "ipython",
    "version": 3
   },
   "file_extension": ".py",
   "mimetype": "text/x-python",
   "name": "python",
   "nbconvert_exporter": "python",
   "pygments_lexer": "ipython3",
   "version": "3.11.7"
  }
 },
 "nbformat": 4,
 "nbformat_minor": 5
}
